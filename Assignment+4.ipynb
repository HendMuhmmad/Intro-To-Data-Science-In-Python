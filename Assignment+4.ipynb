{
 "cells": [
  {
   "cell_type": "markdown",
   "metadata": {},
   "source": [
    "---\n",
    "\n",
    "_You are currently looking at **version 1.1** of this notebook. To download notebooks and datafiles, as well as get help on Jupyter notebooks in the Coursera platform, visit the [Jupyter Notebook FAQ](https://www.coursera.org/learn/python-data-analysis/resources/0dhYG) course resource._\n",
    "\n",
    "---"
   ]
  },
  {
   "cell_type": "code",
   "execution_count": 1,
   "metadata": {
    "collapsed": true
   },
   "outputs": [],
   "source": [
    "import pandas as pd\n",
    "import numpy as np\n",
    "from scipy.stats import ttest_ind"
   ]
  },
  {
   "cell_type": "markdown",
   "metadata": {},
   "source": [
    "# Assignment 4 - Hypothesis Testing\n",
    "This assignment requires more individual learning than previous assignments - you are encouraged to check out the [pandas documentation](http://pandas.pydata.org/pandas-docs/stable/) to find functions or methods you might not have used yet, or ask questions on [Stack Overflow](http://stackoverflow.com/) and tag them as pandas and python related. And of course, the discussion forums are open for interaction with your peers and the course staff.\n",
    "\n",
    "Definitions:\n",
    "* A _quarter_ is a specific three month period, Q1 is January through March, Q2 is April through June, Q3 is July through September, Q4 is October through December.\n",
    "* A _recession_ is defined as starting with two consecutive quarters of GDP decline, and ending with two consecutive quarters of GDP growth.\n",
    "* A _recession bottom_ is the quarter within a recession which had the lowest GDP.\n",
    "* A _university town_ is a city which has a high percentage of university students compared to the total population of the city.\n",
    "\n",
    "**Hypothesis**: University towns have their mean housing prices less effected by recessions. Run a t-test to compare the ratio of the mean price of houses in university towns the quarter before the recession starts compared to the recession bottom. (`price_ratio=quarter_before_recession/recession_bottom`)\n",
    "\n",
    "The following data files are available for this assignment:\n",
    "* From the [Zillow research data site](http://www.zillow.com/research/data/) there is housing data for the United States. In particular the datafile for [all homes at a city level](http://files.zillowstatic.com/research/public/City/City_Zhvi_AllHomes.csv), ```City_Zhvi_AllHomes.csv```, has median home sale prices at a fine grained level.\n",
    "* From the Wikipedia page on college towns is a list of [university towns in the United States](https://en.wikipedia.org/wiki/List_of_college_towns#College_towns_in_the_United_States) which has been copy and pasted into the file ```university_towns.txt```.\n",
    "* From Bureau of Economic Analysis, US Department of Commerce, the [GDP over time](http://www.bea.gov/national/index.htm#gdp) of the United States in current dollars (use the chained value in 2009 dollars), in quarterly intervals, in the file ```gdplev.xls```. For this assignment, only look at GDP data from the first quarter of 2000 onward.\n",
    "\n",
    "Each function in this assignment below is worth 10%, with the exception of ```run_ttest()```, which is worth 50%."
   ]
  },
  {
   "cell_type": "code",
   "execution_count": 2,
   "metadata": {
    "collapsed": true
   },
   "outputs": [],
   "source": [
    "# Use this dictionary to map state names to two letter acronyms\n",
    "states = {'OH': 'Ohio', 'KY': 'Kentucky', 'AS': 'American Samoa', 'NV': 'Nevada', 'WY': 'Wyoming', 'NA': 'National', 'AL': 'Alabama', 'MD': 'Maryland', 'AK': 'Alaska', 'UT': 'Utah', 'OR': 'Oregon', 'MT': 'Montana', 'IL': 'Illinois', 'TN': 'Tennessee', 'DC': 'District of Columbia', 'VT': 'Vermont', 'ID': 'Idaho', 'AR': 'Arkansas', 'ME': 'Maine', 'WA': 'Washington', 'HI': 'Hawaii', 'WI': 'Wisconsin', 'MI': 'Michigan', 'IN': 'Indiana', 'NJ': 'New Jersey', 'AZ': 'Arizona', 'GU': 'Guam', 'MS': 'Mississippi', 'PR': 'Puerto Rico', 'NC': 'North Carolina', 'TX': 'Texas', 'SD': 'South Dakota', 'MP': 'Northern Mariana Islands', 'IA': 'Iowa', 'MO': 'Missouri', 'CT': 'Connecticut', 'WV': 'West Virginia', 'SC': 'South Carolina', 'LA': 'Louisiana', 'KS': 'Kansas', 'NY': 'New York', 'NE': 'Nebraska', 'OK': 'Oklahoma', 'FL': 'Florida', 'CA': 'California', 'CO': 'Colorado', 'PA': 'Pennsylvania', 'DE': 'Delaware', 'NM': 'New Mexico', 'RI': 'Rhode Island', 'MN': 'Minnesota', 'VI': 'Virgin Islands', 'NH': 'New Hampshire', 'MA': 'Massachusetts', 'GA': 'Georgia', 'ND': 'North Dakota', 'VA': 'Virginia'}"
   ]
  },
  {
   "cell_type": "code",
   "execution_count": 3,
   "metadata": {
    "collapsed": true,
    "umich_part_id": "021",
    "umich_partlist_id": "004"
   },
   "outputs": [],
   "source": [
    "def get_list_of_university_towns():\n",
    "    '''Returns a DataFrame of towns and the states they are in from the \n",
    "    university_towns.txt list. The format of the DataFrame should be:\n",
    "    DataFrame( [ [\"Michigan\", \"Ann Arbor\"], [\"Michigan\", \"Yipsilanti\"] ], \n",
    "    columns=[\"State\", \"RegionName\"]  )\n",
    "    \n",
    "    The following cleaning needs to be done:\n",
    "\n",
    "    1. For \"State\", removing characters from \"[\" to the end.\n",
    "    2. For \"RegionName\", when applicable, removing every character from \" (\" to the end.\n",
    "    3. Depending on how you read the data, you may need to remove newline character '\\n'. '''\n",
    "    df= []\n",
    "    file = open(\"university_towns.txt\", \"r\")\n",
    "    lines = file.read().split('\\n')\n",
    "    for line in lines:\n",
    "        if line.endswith('[edit]'):\n",
    "            state = line\n",
    "        elif line != '':\n",
    "            df.append([state,line])       \n",
    "    df = pd.DataFrame(df,columns=[\"State\", \"RegionName\"])\n",
    "    df['State'] = df['State'].apply((lambda x : (x.split('['))[0]))\n",
    "    df['RegionName'] = df['RegionName'].apply((lambda x : (x.split(' ('))[0]))\n",
    "    return df"
   ]
  },
  {
   "cell_type": "code",
   "execution_count": 4,
   "metadata": {
    "collapsed": true,
    "umich_part_id": "022",
    "umich_partlist_id": "004"
   },
   "outputs": [],
   "source": [
    "def get_recession_start():\n",
    "    '''Returns the year and quarter of the recession start time as a \n",
    "    string value in a format such as 2005q3'''\n",
    "    GDP = pd.read_excel('gdplev.xls',skiprows =219,usecols = [4,6],names = ['quarter', 'GDP'])\n",
    "    for i in range (1,len(GDP['GDP'])-1):\n",
    "        if(GDP['GDP'][i] < GDP['GDP'][i-1] and GDP['GDP'][i+1] < GDP['GDP'][i]):\n",
    "            startqyear =  GDP['quarter'][i]\n",
    "            break\n",
    "    return startqyear"
   ]
  },
  {
   "cell_type": "code",
   "execution_count": 5,
   "metadata": {
    "collapsed": true,
    "umich_part_id": "023",
    "umich_partlist_id": "004"
   },
   "outputs": [],
   "source": [
    "def get_recession_end():\n",
    "    '''Returns the year and quarter of the recession end time as a \n",
    "    string value in a format such as 2005q3'''\n",
    "    GDP = pd.read_excel('gdplev.xls',skiprows =219,usecols = [4,6],names = ['quarter', 'GDP'])\n",
    "    for i in range (1,len(GDP['GDP'])-1):\n",
    "        if(GDP['GDP'][i] < GDP['GDP'][i-1] and GDP['GDP'][i+1] < GDP['GDP'][i]):\n",
    "            start = i+1\n",
    "            break\n",
    "    for i in range (start,len(GDP['GDP'])-1):\n",
    "        if(GDP['GDP'][i] > GDP['GDP'][i-1] and GDP['GDP'][i+1] > GDP['GDP'][i]):\n",
    "            endqyear = GDP['quarter'][i+1]\n",
    "            break\n",
    "    \n",
    "    return endqyear\n",
    "#check if the year at rise or the one after it"
   ]
  },
  {
   "cell_type": "code",
   "execution_count": 6,
   "metadata": {
    "collapsed": true,
    "umich_part_id": "024",
    "umich_partlist_id": "004"
   },
   "outputs": [],
   "source": [
    "def get_recession_bottom():\n",
    "    '''Returns the year and quarter of the recession bottom time as a \n",
    "    string value in a format such as 2005q3'''\n",
    "    GDP = pd.read_excel('gdplev.xls',skiprows =219,usecols = [4,6],names = ['quarter', 'GDP'])\n",
    "    for i in range (1,len(GDP['GDP'])-1):\n",
    "        if(GDP['GDP'][i] < GDP['GDP'][i-1] and GDP['GDP'][i+1] < GDP['GDP'][i]):\n",
    "            start = i\n",
    "            break\n",
    "    for i in range (start,len(GDP['GDP'])-1):\n",
    "        if(GDP['GDP'][i] > GDP['GDP'][i-1] and GDP['GDP'][i+1] > GDP['GDP'][i]):\n",
    "            end = i+1\n",
    "            break\n",
    "    return GDP.iloc[GDP.iloc[start:end]['GDP'].argmin()]['quarter']"
   ]
  },
  {
   "cell_type": "code",
   "execution_count": 7,
   "metadata": {
    "collapsed": true,
    "umich_part_id": "025",
    "umich_partlist_id": "004"
   },
   "outputs": [],
   "source": [
    "def convert_housing_data_to_quarters():\n",
    "    '''Converts the housing data to quarters and returns it as mean \n",
    "    values in a dataframe. This dataframe should be a dataframe with\n",
    "    columns for 2000q1 through 2016q3, and should have a multi-index\n",
    "    in the shape of [\"State\",\"RegionName\"].\n",
    "    \n",
    "    Note: Quarters are defined in the assignment description, they are\n",
    "    not arbitrary three month periods.\n",
    "    \n",
    "    The resulting dataframe should have 67 columns, and 10,730 rows.\n",
    "    '''\n",
    "    homes = pd.read_csv('City_Zhvi_AllHomes.csv')\n",
    "    columnstodrop = list(homes.columns)[3:51]\n",
    "    columnstodrop.append('RegionID')\n",
    "    homes.drop(columnstodrop,axis = 1,inplace = True)\n",
    "    homes['State'] = homes['State'].replace(states)\n",
    "    homes.set_index(['State','RegionName'],inplace = True)\n",
    "    hcols = homes.columns\n",
    "    for i in range(len(hcols)):\n",
    "        if(hcols[i][-2:] == '01'):\n",
    "            homes[(hcols[i][0:4]+'q1')] = np.mean(homes[hcols[i:i+3]],axis = 1)\n",
    "        if(hcols[i][-2:] == '04'):\n",
    "            homes[(hcols[i][0:4]+'q2')] = np.mean(homes[hcols[i:i+3]],axis = 1)\n",
    "        if(hcols[i][-2:] == '07'):\n",
    "            homes[(hcols[i][0:4]+'q3')] = np.mean(homes[hcols[i:i+3]],axis = 1)\n",
    "        if(hcols[i][-2:] == '10'):\n",
    "            homes[(hcols[i][0:4]+'q4')] = np.mean(homes[hcols[i:i+3]],axis = 1)\n",
    "        coltodrop = homes.columns[0:200]\n",
    "        df = homes.drop(coltodrop, axis = 1)\n",
    "    return df"
   ]
  },
  {
   "cell_type": "code",
   "execution_count": 8,
   "metadata": {
    "collapsed": true,
    "umich_part_id": "026",
    "umich_partlist_id": "004"
   },
   "outputs": [],
   "source": [
    "def run_ttest():\n",
    "    '''First creates new data showing the decline or growth of housing prices\n",
    "    between the recession start and the recession bottom. Then runs a ttest\n",
    "    comparing the university town values to the non-university towns values, \n",
    "    return whether the alternative hypothesis (that the two groups are the same)\n",
    "    is true or not as well as the p-value of the confidence. \n",
    "    \n",
    "    Return the tuple (different, p, better) where different=True if the t-test is\n",
    "    True at a p<0.01 (we reject the null hypothesis), or different=False if \n",
    "    otherwise (we cannot reject the null hypothesis). The variable p should\n",
    "    be equal to the exact p value returned from scipy.stats.ttest_ind(). The\n",
    "    value for better should be either \"university town\" or \"non-university town\"\n",
    "    depending on which has a lower mean price ratio (which is equivilent to a\n",
    "    reduced market loss).'''\n",
    "    uni_towns = get_list_of_university_towns()\n",
    "    houses_prices = convert_housing_data_to_quarters()\n",
    "    recession_start = get_recession_start()\n",
    "    recession_bottom = get_recession_bottom()\n",
    "    recession_before_start_index = (list(houses_prices.columns).index(recession_start))-1\n",
    "    recession_before_start = houses_prices.columns[recession_before_start_index]\n",
    "    houses_prices['price_ratio'] = houses_prices[recession_before_start]/houses_prices[recession_bottom]\n",
    "    houses_prices.sort_index(inplace = True)\n",
    "    unidf = pd.merge(houses_prices, uni_towns, how='inner', left_index=True, right_on=['State','RegionName'])\n",
    "    unidf.set_index(['State','RegionName'],inplace = True)\n",
    "    unidf.dropna(inplace = True)\n",
    "    nonunidf = pd.concat([houses_prices,unidf],axis=0)   \n",
    "    nonunidf = nonunidf.drop_duplicates(keep=False)\n",
    "    nonunidf.dropna(inplace = True)\n",
    "    statistic , pvalue = ttest_ind(unidf['price_ratio'], nonunidf['price_ratio'])\n",
    "    if(pvalue < 0.01):\n",
    "        diffrent = True\n",
    "        better = 'university town'\n",
    "    else:\n",
    "        diffrent = False\n",
    "        better = 'non-university town'    \n",
    "    return (diffrent,pvalue,better)"
   ]
  },
  {
   "cell_type": "code",
   "execution_count": null,
   "metadata": {
    "collapsed": true
   },
   "outputs": [],
   "source": []
  }
 ],
 "metadata": {
  "coursera": {
   "course_slug": "python-data-analysis",
   "graded_item_id": "Il9Fx",
   "launcher_item_id": "TeDW0",
   "part_id": "WGlun"
  },
  "kernelspec": {
   "display_name": "Python 3",
   "language": "python",
   "name": "python3"
  },
  "language_info": {
   "codemirror_mode": {
    "name": "ipython",
    "version": 3
   },
   "file_extension": ".py",
   "mimetype": "text/x-python",
   "name": "python",
   "nbconvert_exporter": "python",
   "pygments_lexer": "ipython3",
   "version": "3.6.2"
  },
  "umich": {
   "id": "Assignment 4",
   "version": "1.1"
  }
 },
 "nbformat": 4,
 "nbformat_minor": 1
}
